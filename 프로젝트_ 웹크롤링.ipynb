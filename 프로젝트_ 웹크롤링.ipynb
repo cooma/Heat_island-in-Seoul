{
 "cells": [
  {
   "cell_type": "markdown",
   "metadata": {},
   "source": [
    "## Data Web Crawling"
   ]
  },
  {
   "cell_type": "code",
   "execution_count": 1,
   "metadata": {},
   "outputs": [],
   "source": [
    "import pandas as pd\n",
    "import numpy as np\n",
    "\n",
    "import platform\n",
    "import matplotlib.pyplot as plt\n",
    "\n",
    "%matplotlib inline\n"
   ]
  },
  {
   "cell_type": "code",
   "execution_count": 2,
   "metadata": {},
   "outputs": [],
   "source": [
    "from selenium import webdriver\n",
    "import time "
   ]
  },
  {
   "cell_type": "code",
   "execution_count": 3,
   "metadata": {},
   "outputs": [],
   "source": [
    "driver = webdriver.Chrome('../../Driver/chromedriver')  #크롬드라이버 사용\n",
    "driver.get('http://aws.seoul.go.kr/')"
   ]
  },
  {
   "cell_type": "code",
   "execution_count": 4,
   "metadata": {},
   "outputs": [],
   "source": [
    "driver.find_element_by_xpath(\"\"\"//*[@id=\"MENU_3\"]\"\"\").click() "
   ]
  },
  {
   "cell_type": "code",
   "execution_count": 5,
   "metadata": {},
   "outputs": [],
   "source": [
    "driver.find_element_by_xpath(\"\"\"//*[@id=\"MENU_S4\"]\"\"\").click() "
   ]
  },
  {
   "cell_type": "code",
   "execution_count": 6,
   "metadata": {
    "scrolled": true
   },
   "outputs": [],
   "source": [
    "# driver switch ->  http 이중구조, 내부 http로 전환\n",
    "driver.switch_to.frame('MainFrame')\n",
    "\n",
    "\n",
    "# 이중구조라 xpath가 듣지 않음, name 으로 태그 따오기\n",
    "#station_list_raw = driver.find_element_by_xpath(\"\"\"/*[name()='html']/*[name()='body']/*[name()='form']/*[name()='table']/*[name()='tbody']/*[name()='tr']\n",
    "#/*[name()='td']/*[name()='table']/*[name()='tbody']/*[name()='tr']/*[name()='td']/*[name()='select']\"\"\")\n",
    "station_list_raw = driver.find_element_by_name(\"AWS_ID\")"
   ]
  },
  {
   "cell_type": "code",
   "execution_count": 7,
   "metadata": {},
   "outputs": [
    {
     "data": {
      "text/plain": [
       "<selenium.webdriver.remote.webelement.WebElement (session=\"a36230acf83742560a9f05720337a37e\", element=\"0.9931237531915253-1\")>"
      ]
     },
     "execution_count": 7,
     "metadata": {},
     "output_type": "execute_result"
    }
   ],
   "source": [
    "station_list_raw\n",
    "#/html/body/form/table/tbody/tr[2]/td[2]/table[1]/tbody/tr[1]/td[2]/select"
   ]
  },
  {
   "cell_type": "code",
   "execution_count": 8,
   "metadata": {
    "scrolled": true
   },
   "outputs": [
    {
     "data": {
      "text/plain": [
       "['[서] 남산',\n",
       " '[서] 동대문',\n",
       " '[서] 성북',\n",
       " '[서] 도봉',\n",
       " '[서] 마포',\n",
       " '[서] 구로',\n",
       " '[서] 영등포',\n",
       " '[서] 서초',\n",
       " '[서] 강남',\n",
       " '[서] 서대문',\n",
       " '[서] 금천',\n",
       " '[서] 양천',\n",
       " '[서] 노원',\n",
       " '[서] 광진',\n",
       " '[서] 강북',\n",
       " '[서] 송파',\n",
       " '[서] 용산',\n",
       " '[서] 성동',\n",
       " '[서] 중랑',\n",
       " '[서] 중구',\n",
       " '[서] 종로',\n",
       " '[서] 은평',\n",
       " '[서] 동작',\n",
       " '[서] 관악',\n",
       " '[서] 강동',\n",
       " '[서] 강서',\n",
       " '[기] 서울',\n",
       " '[기] 강남',\n",
       " '[기] 서초',\n",
       " '[기] 강동',\n",
       " '[기] 송파',\n",
       " '[기] 강서',\n",
       " '[기] 양천',\n",
       " '[기] 도봉',\n",
       " '[기] 노원',\n",
       " '[기] 동대문',\n",
       " '[기] 중랑',\n",
       " '[기] 기상청',\n",
       " '[기] 마포',\n",
       " '[기] 서대문',\n",
       " '[기] 광진',\n",
       " '[기] 성북',\n",
       " '[기] 용산',\n",
       " '[기] 은평',\n",
       " '[기] 금천',\n",
       " '[기] 한강',\n",
       " '[기] 중구',\n",
       " '[기] 북악산',\n",
       " '[기] 성동',\n",
       " '[기] 구로',\n",
       " '[기] 강북',\n",
       " '[기] 관악',\n",
       " '[기] 영등포',\n",
       " '[기] 남현',\n",
       " '[기] 현충원']"
      ]
     },
     "execution_count": 8,
     "metadata": {},
     "output_type": "execute_result"
    }
   ],
   "source": [
    "station_list = station_list_raw.find_elements_by_tag_name(\"option\") # tag name 으로 찾기\n",
    "station_names_values = [option.text for option in station_list]\n",
    "station_names_values = station_names_values[1:]\n",
    "station_names_values"
   ]
  },
  {
   "cell_type": "code",
   "execution_count": 9,
   "metadata": {},
   "outputs": [
    {
     "data": {
      "text/plain": [
       "26"
      ]
     },
     "execution_count": 9,
     "metadata": {},
     "output_type": "execute_result"
    }
   ],
   "source": [
    "station_names_values.index('[기] 서울')"
   ]
  },
  {
   "cell_type": "code",
   "execution_count": 10,
   "metadata": {
    "scrolled": false
   },
   "outputs": [
    {
     "data": {
      "text/plain": [
       "['[서] 남산',\n",
       " '[서] 동대문',\n",
       " '[서] 성북',\n",
       " '[서] 도봉',\n",
       " '[서] 마포',\n",
       " '[서] 구로',\n",
       " '[서] 영등포',\n",
       " '[서] 서초',\n",
       " '[서] 강남',\n",
       " '[서] 서대문',\n",
       " '[서] 금천',\n",
       " '[서] 양천',\n",
       " '[서] 노원',\n",
       " '[서] 광진',\n",
       " '[서] 강북',\n",
       " '[서] 송파',\n",
       " '[서] 용산',\n",
       " '[서] 성동',\n",
       " '[서] 중랑',\n",
       " '[서] 중구',\n",
       " '[서] 종로',\n",
       " '[서] 은평',\n",
       " '[서] 동작',\n",
       " '[서] 관악',\n",
       " '[서] 강동',\n",
       " '[서] 강서']"
      ]
     },
     "execution_count": 10,
     "metadata": {},
     "output_type": "execute_result"
    }
   ],
   "source": [
    "station_names_values[:26]  # 기상청 자료는 쓰지않음, 서울시 관측소만"
   ]
  },
  {
   "cell_type": "code",
   "execution_count": 11,
   "metadata": {
    "scrolled": true
   },
   "outputs": [],
   "source": [
    "# Crawling data with Function   14년~ 17년\n",
    "\n",
    "#다운로드 전에 드라이버의 다운로드 경로를 옮겨준다. Project폴더 생성 및 경로 변경\n",
    "def date_download(area):\n",
    "    import datetime\n",
    "    import time\n",
    "    from tqdm import tqdm_notebook\n",
    "    import os\n",
    "    from selenium import webdriver\n",
    "    \n",
    "    element = driver.find_element_by_name(\"AWS_ID\")\n",
    "    element.send_keys(station_names_values[area])\n",
    "    start = datetime.datetime.strptime(\"2014-01-01\", \"%Y-%m-%d\")\n",
    "    end = datetime.datetime.strptime(\"2017-12-31\", \"%Y-%m-%d\")\n",
    "    date_generated = [start + datetime.timedelta(days=x) for x in range(0, (end-start).days+1)] # 날짜 생성\n",
    "\n",
    "    \n",
    "    for n in tqdm_notebook(range(len(date_generated))):\n",
    "    \n",
    "        inputElement=driver.find_element_by_name('RptSDATE')  # name 으로 조회일자 접근\n",
    "        inputElement.clear() # 조회일자 클리어\n",
    "        inputElement.send_keys(date_generated[n].strftime('%Y-%m-%d')) # 날짜 넣기\n",
    "    \n",
    "        time.sleep(1)\n",
    "    \n",
    "        element_get_excel = driver.find_element_by_name('btnExcel').click()  #엑셀로 받기\n",
    "    "
   ]
  },
  {
   "cell_type": "code",
   "execution_count": 12,
   "metadata": {},
   "outputs": [],
   "source": [
    "# webdriver download path변경하면서 다운하려했지만 지원안함, driver열때마다 바꿔야함"
   ]
  },
  {
   "cell_type": "code",
   "execution_count": null,
   "metadata": {
    "scrolled": false
   },
   "outputs": [
    {
     "data": {
      "application/vnd.jupyter.widget-view+json": {
       "model_id": "0f3a455d6ba243c18f407823976949f3",
       "version_major": 2,
       "version_minor": 0
      },
      "text/plain": [
       "HBox(children=(IntProgress(value=0, max=31), HTML(value='')))"
      ]
     },
     "metadata": {},
     "output_type": "display_data"
    }
   ],
   "source": [
    "for i in range(len(station_names_values[:26])):\n",
    "    date_download(i)"
   ]
  },
  {
   "cell_type": "code",
   "execution_count": null,
   "metadata": {},
   "outputs": [],
   "source": [
    "driver.close()"
   ]
  },
  {
   "cell_type": "markdown",
   "metadata": {},
   "source": [
    "## .xls 파일 -> .csv 로 변환해주어야 함\n",
    "Project 폴더에 파일 모두 csv로 변환\n",
    "VBA 코드 사용\n",
    "```C\n",
    "Sub chgXLS2CSV()\n",
    "pathExcel = \"a\\\"\n",
    "pathCSV = \"b\\\"\n",
    "MyName = Dir(pathExcel, vbDirectory)\n",
    "FullFileName = \"\"\n",
    "Do While MyName <> \"\"\n",
    "   If MyName <> \".\" And MyName <> \"..\" Then\n",
    "      If (GetAttr(pathExcel & MyName) And vbDirectory) <> vbDirectory Then\n",
    "          FullFileName = pathExcel & MyName\n",
    "          SaveFileName = pathCSV & Left(MyName, Len(MyName) - 4) & \".csv\"\n",
    "          Workbooks.Open Filename:=FullFileName\n",
    "          ActiveWorkbook.Worksheets(1).SaveAs Filename:=SaveFileName, FileFormat:=xlCSV\n",
    "          ActiveWorkbook.Close False\n",
    "      End If\n",
    "    End If\n",
    "    MyName = Dir\n",
    "Loop\n",
    "End Sub\n",
    "```"
   ]
  },
  {
   "cell_type": "code",
   "execution_count": 66,
   "metadata": {},
   "outputs": [],
   "source": [
    "#작업 디렉토리 변경\n",
    "import os\n",
    "os.chdir('C:\\\\Users\\\\mjsdh\\\\Downloads\\\\Project')"
   ]
  },
  {
   "cell_type": "code",
   "execution_count": 48,
   "metadata": {
    "scrolled": true
   },
   "outputs": [
    {
     "data": {
      "text/plain": [
       "'C:\\\\Users\\\\mjsdh\\\\Downloads\\\\Project'"
      ]
     },
     "execution_count": 48,
     "metadata": {},
     "output_type": "execute_result"
    }
   ],
   "source": [
    "os.getcwd()"
   ]
  },
  {
   "cell_type": "code",
   "execution_count": 51,
   "metadata": {},
   "outputs": [],
   "source": [
    "#os 로 폴더 생성, 다운로드 데이터 정리\n",
    "for i in range(len(station_names_values[:26])):\n",
    "    os.mkdir(station_names_values[i])            # os.renames 쓴다면 굳이 안해도됨"
   ]
  },
  {
   "cell_type": "code",
   "execution_count": 59,
   "metadata": {},
   "outputs": [],
   "source": [
    "# 폴더 정리\n",
    "from glob import glob\n",
    "\n",
    "for j in range(0,26):\n",
    "    station=[]\n",
    "    station=glob('*({0})*'.format(j))\n",
    "    for i in range(len(young)):\n",
    "        os.renames(station[i], 'C:/Users/mjsdh/Downloads/Project/'+station_names_values[j]+'/'+station[i]) "
   ]
  },
  {
   "cell_type": "code",
   "execution_count": 64,
   "metadata": {},
   "outputs": [
    {
     "name": "stdout",
     "output_type": "stream",
     "text": [
      "[서] 남산\n"
     ]
    }
   ],
   "source": [
    " # 남산 따로 정리\n",
    "print(station_names_values[0])\n",
    "station=glob('*.xls')\n",
    "for i in range(len(station)):\n",
    "    os.renames(station[i], 'C:/Users/mjsdh/Downloads/Project/'+station_names_values[0]+'/'+station[i])"
   ]
  }
 ],
 "metadata": {
  "kernelspec": {
   "display_name": "Python 3",
   "language": "python",
   "name": "python3"
  },
  "language_info": {
   "codemirror_mode": {
    "name": "ipython",
    "version": 3
   },
   "file_extension": ".py",
   "mimetype": "text/x-python",
   "name": "python",
   "nbconvert_exporter": "python",
   "pygments_lexer": "ipython3",
   "version": "3.6.5"
  }
 },
 "nbformat": 4,
 "nbformat_minor": 2
}
