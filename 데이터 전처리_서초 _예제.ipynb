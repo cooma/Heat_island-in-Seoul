{
 "cells": [
  {
   "cell_type": "markdown",
   "metadata": {},
   "source": [
    "# 데이터 전처리 _서초 \n",
    "example"
   ]
  },
  {
   "cell_type": "code",
   "execution_count": null,
   "metadata": {},
   "outputs": [],
   "source": [
    "import os\n",
    "os.getcwd()\n",
    "\n",
    "from glob import glob\n",
    "\n",
    "Seocho = glob('서초_csv/시간별*.csv')\n",
    "\n",
    "Seocho\n",
    "\n",
    "#Glob 로 긁어온 csv 데이터 파일 병합하기\n",
    "\n",
    "tmp_raw = []\n",
    "for file_name in Seocho:\n",
    "    tmp = pd.read_csv(file_name, engine='python', header=2)\n",
    "    tmp['Year'] = file_name.split('_')[2].split('-')[0]\n",
    "    tmp['Date'] = file_name.split('_')[2].split('(')[0]\n",
    "    tmp_raw.append(tmp)\n"
   ]
  },
  {
   "cell_type": "code",
   "execution_count": null,
   "metadata": {},
   "outputs": [],
   "source": [
    "import pandas as pd\n",
    "import numpy as np"
   ]
  },
  {
   "cell_type": "code",
   "execution_count": null,
   "metadata": {},
   "outputs": [],
   "source": [
    "Seocho_raw = pd.concat(tmp_raw)\n",
    "\n",
    "Seocho_raw.info()\n",
    "\n",
    "len(Seocho_raw)\n",
    "\n",
    "Seocho_raw['index']=Seocho_raw.index\n",
    "\n",
    "Seocho_raw_mean=Seocho_raw[Seocho_raw['구 분']=='평균']\n",
    "\n",
    "Seocho_raw[1441:1446] #일평균 자료 삭제\n",
    "\n",
    "Seocho_raw = Seocho_raw.drop(Seocho_raw.index[1441:1446]) #삭제된것으로 업뎃\n",
    "\n",
    "Seocho_raw=Seocho_raw.dropna(subset=['구 분']) #삭제가 잘되었는지 확인\n",
    "\n",
    "Seocho_raw=Seocho_raw.drop(Seocho_raw.index[0]) #index[0] '시간' row 라 삭제\n",
    "\n",
    "Seocho_raw.tail()  # 8월 8일까지 데이터 존재 , 기상청 데이터 병합 with excel"
   ]
  },
  {
   "cell_type": "code",
   "execution_count": null,
   "metadata": {},
   "outputs": [],
   "source": [
    "Seocho_raw[Seocho_raw['구 분']=='평균']\n",
    "\n",
    "Seocho_raw=Seocho_raw.reset_index(drop=True)\n",
    "\n",
    "Seocho_raw.head() #반복되는 index 필요할까봐 넣어둠\n",
    "\n",
    "Seo_index=Seocho_raw[Seocho_raw['구 분']=='24:00:00'].index\n",
    "\n",
    "Seocho_raw.set_value(col=['구 분'],value=\"00:00\",index=Seo_index) #value 값 변경,\n",
    "                                                                #datatime에 맞추기\n",
    "\n",
    "Seocho_raw['Time'] = Seocho_raw['Date']+' '+Seocho_raw['구 분'] #datetime 프레임맞추기\n",
    "\n",
    "Seocho_raw['Time']=pd.to_datetime(Seocho_raw['Time']) #datetiem으로 변환\n",
    "\n",
    "Seocho_raw.head()\n",
    "\n",
    "Seocho_raw = Seocho_raw.drop(['비고'], axis=1)\n",
    "\n",
    "####  시간별 데이터 뽑기\n",
    "\n",
    "#np.arange(59,1441,60)\n",
    "\n",
    "#Seocho_raw.loc[1439]\n",
    "\n",
    "#for 문 써서 subset \n",
    "#Seocho_raw_H=[]\n",
    "#for i in np.arange(59,len(Seocho_raw),60):\n",
    "#    a= Seocho_raw.loc[i]\n",
    "#    Seocho_raw_H.append(a)\n",
    "\n",
    "#Seocho_raw_H=pd.DataFrame(Seocho_raw_H)\n",
    "\n",
    "Seocho_raw_H = Seocho_raw[59::60] #subset 60, from 59\n",
    "\n",
    "Seocho_raw_H\n",
    "\n",
    "Seocho_raw_H.to_csv('서초_시간별.csv') #data 저장\n",
    "\n",
    "#data 저장, 불러오기로 데이터 타입 변환\n",
    "import numpy as np\n",
    "import pandas as pd\n",
    "Seocho_raw=pd.read_csv('서초_시간별.csv', \n",
    "                       engine='python',\n",
    "                       na_values='-', \n",
    "                       dtype={'풍향':'float64',\n",
    "                              '기온':'float64',\n",
    "                              '강수':'float64','습도':'float64',\n",
    "                               '일사':'float64','일조':'float64','돌풍':'float64'} )"
   ]
  },
  {
   "cell_type": "code",
   "execution_count": null,
   "metadata": {},
   "outputs": [],
   "source": [
    "Seocho_raw.head()\n",
    "del Seocho_raw['Unnamed: 0']\n",
    "\n",
    "Seocho_raw.info()\n",
    "\n",
    "#a_1=Seocho_raw[Seocho_raw['습도']=='-'].index\n",
    "a_2=Seocho_raw[Seocho_raw['강수유무']=='●'].index   #data 강수유무 변환\n",
    "\n",
    "#for i in range(len(a_1)):\n",
    "#    Seocho_raw.at[a_1[i],'습도'] = 0\n",
    "\n",
    "for i in range(len(a_2)):\n",
    "    Seocho_raw.at[a_2[i],'강수유무'] = 1\n",
    "\n",
    "Seocho_raw[Seocho_raw['강수유무']=='●']\n",
    "\n",
    "#Seocho_raw.set_value(col=['구 분'],value=\"00:00\",index=Seo_index)\n",
    "\n",
    "Seocho_raw.head()\n",
    "\n",
    "Seocho_raw['강수유무']=Seocho_raw['강수유무'].astype('float64')\n",
    "\n",
    "Seocho_raw.to_csv('서초_시간별.csv', encoding='cp949') #\n",
    "\n",
    "Seocho_raw"
   ]
  }
 ],
 "metadata": {
  "kernelspec": {
   "display_name": "Python 3",
   "language": "python",
   "name": "python3"
  },
  "language_info": {
   "codemirror_mode": {
    "name": "ipython",
    "version": 3
   },
   "file_extension": ".py",
   "mimetype": "text/x-python",
   "name": "python",
   "nbconvert_exporter": "python",
   "pygments_lexer": "ipython3",
   "version": "3.6.5"
  }
 },
 "nbformat": 4,
 "nbformat_minor": 2
}
